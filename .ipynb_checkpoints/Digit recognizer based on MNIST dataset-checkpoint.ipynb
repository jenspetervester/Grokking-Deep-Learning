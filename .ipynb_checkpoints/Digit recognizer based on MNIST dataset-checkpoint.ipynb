{
 "cells": [
  {
   "cell_type": "code",
   "execution_count": 15,
   "metadata": {},
   "outputs": [
    {
     "name": "stdout",
     "output_type": "stream",
     "text": [
      "num images: 60000\n",
      "num images: 60000\n"
     ]
    }
   ],
   "source": [
    "import matplotlib\n",
    "import matplotlib.pyplot as plt\n",
    "from mnist import MNIST\n",
    "mndata = MNIST('C:\\\\Users\\\\jpv\\\\Dropbox\\\\src\\\\grokking_deep_learning')\n",
    "images, labels = mndata.load_training()\n",
    "\n",
    "print(\"num images: {}\".format(len(images)))\n",
    "print(\"num images: {}\".format(len(labels)))"
   ]
  },
  {
   "cell_type": "code",
   "execution_count": 18,
   "metadata": {
    "collapsed": true
   },
   "outputs": [],
   "source": [
    "import vector_ops as vops\n",
    "def show_number(raw_image, label):\n",
    "    \"\"\"interprets raw_image as a 28x28 matrix and displays it\"\"\"\n",
    "    image = vops.matrix_of_zeroes(28, 28)\n",
    "\n",
    "    offset = 0\n",
    "    for row in range(28):\n",
    "        lastOffset = offset\n",
    "        offset += 28\n",
    "        image[row] = raw_image[lastOffset:offset] \n",
    "\n",
    "    plt.matshow(image)\n",
    "    plt.show()\n",
    "    print(\"This is {}\".format(label)) "
   ]
  },
  {
   "cell_type": "code",
   "execution_count": 19,
   "metadata": {},
   "outputs": [
    {
     "data": {
      "image/png": "[encoded data removed]",
      "text/plain": [
       "<matplotlib.figure.Figure at 0xbf65094080>"
      ]
     },
     "metadata": {},
     "output_type": "display_data"
    },
    {
     "name": "stdout",
     "output_type": "stream",
     "text": [
      "This is 5\n"
     ]
    }
   ],
   "source": [
    "#for i in range(10):\n",
    "#    show_number(images[i], labels[i]) \n",
    "show_number(images[0], labels[0]) "
   ]
  },
  {
   "cell_type": "code",
   "execution_count": 4,
   "metadata": {
    "collapsed": true
   },
   "outputs": [],
   "source": [
    "def elementwise_multiplication(vec_a, vec_b):\n",
    "    assert(len(vec_a) == len(vec_b))\n",
    "    res = []\n",
    "    for ix, item in enumerate(vec_a):\n",
    "        res.append(vec_a[ix] * vec_b[ix])\n",
    "    return res"
   ]
  },
  {
   "cell_type": "code",
   "execution_count": 5,
   "metadata": {
    "collapsed": true
   },
   "outputs": [],
   "source": [
    "def w_sum(vec_a, vec_b):\n",
    "    #print(\"len vec_a {} \\n len vec_b {}\".format(len(vec_a), len(vec_b)))\n",
    "    assert(len(vec_a) == len(vec_b))\n",
    "    multiplied_elements = elementwise_multiplication(vec_a, vec_b)\n",
    "    return vector_sum(multiplied_elements)"
   ]
  },
  {
   "cell_type": "code",
   "execution_count": 6,
   "metadata": {
    "collapsed": true
   },
   "outputs": [],
   "source": [
    "def vector_of_zeroes(len):\n",
    "    return [0] * len"
   ]
  },
  {
   "cell_type": "code",
   "execution_count": 7,
   "metadata": {
    "collapsed": true
   },
   "outputs": [],
   "source": [
    "def matrix_of_zeroes(rows, columns):\n",
    "    res = []\n",
    "    for r in range(rows):\n",
    "        res.append([0] * columns)\n",
    "    return res"
   ]
  },
  {
   "cell_type": "code",
   "execution_count": 8,
   "metadata": {
    "collapsed": true
   },
   "outputs": [],
   "source": [
    "def outer_prod(vec_a, vec_b):\n",
    "    #print(\"vec_a: {}, vec_b: {}\".format(vec_a, vec_b))\n",
    "    res = matrix_of_zeroes(len(vec_a), len(vec_b))\n",
    "    for i in range(len(vec_a)):\n",
    "        for j in range(len(vec_b)):\n",
    "            res[i][j] = vec_a[i] * vec_b[j]\n",
    "    return res"
   ]
  },
  {
   "cell_type": "code",
   "execution_count": 9,
   "metadata": {
    "collapsed": true
   },
   "outputs": [],
   "source": [
    "def vector_sum(vec_a):\n",
    "    res = 0\n",
    "    for elem in vec_a:\n",
    "        res += elem\n",
    "    return res"
   ]
  },
  {
   "cell_type": "code",
   "execution_count": 10,
   "metadata": {
    "collapsed": true
   },
   "outputs": [],
   "source": [
    "#%pdb\n",
    "def vect_mat_mul(vect, matrix):\n",
    "    #print(\"vect{} \\n matrix {}\".format(vect, matrix))\n",
    "    #print(\"len vect {} \\n len matrix {}\".format(len(vect), len(matrix)))\n",
    "    assert(len(vect) == len(matrix))\n",
    "    output = vector_of_zeroes(len(vect))\n",
    "    for i in range(len(vect)):\n",
    "        print(\"** i={}, len(vect)={}, len(matrix[i])={}\".format(i, len(vect), len(matrix[i])))\n",
    "        output[i] = w_sum(vect,matrix[i])\n",
    "        print(\"output[i]={}\".format(output[i]))\n",
    "    return output"
   ]
  },
  {
   "cell_type": "code",
   "execution_count": 11,
   "metadata": {
    "collapsed": true
   },
   "outputs": [],
   "source": [
    "def neural_network(inputs, weights):\n",
    "    return vect_mat_mul(inputs, weights)"
   ]
  },
  {
   "cell_type": "code",
   "execution_count": null,
   "metadata": {},
   "outputs": [],
   "source": [
    "sample = 0\n",
    "input = images[0]\n",
    "goal_prediction = [0.1, 0.1, 0.1, 0.1, 0.1, 1, 0.1, 0.1, 0.1, 0.1] // 5\n",
    "\n",
    "#784 (28*28 pixels) inputs (one per pixel) and 10 predictions, each a number describing the likelihood of it being true\n",
    "#each prediction has a weight for every one of the 784 pixels/inputs\n"
   ]
  }
 ],
 "metadata": {
  "kernelspec": {
   "display_name": "Python 3",
   "language": "python",
   "name": "python3"
  },
  "language_info": {
   "codemirror_mode": {
    "name": "ipython",
    "version": 3
   },
   "file_extension": ".py",
   "mimetype": "text/x-python",
   "name": "python",
   "nbconvert_exporter": "python",
   "pygments_lexer": "ipython3",
   "version": "3.6.1"
  }
 },
 "nbformat": 4,
 "nbformat_minor": 2
}
